{
 "cells": [
  {
   "cell_type": "code",
   "execution_count": 1,
   "metadata": {},
   "outputs": [],
   "source": [
    "import numpy as np\n",
    "import pandas as pd"
   ]
  },
  {
   "cell_type": "code",
   "execution_count": 3,
   "metadata": {},
   "outputs": [],
   "source": [
    "import matplotlib.pyplot as plt\n",
    "import seaborn as sns\n",
    "import pandas_profiling"
   ]
  },
  {
   "cell_type": "code",
   "execution_count": 4,
   "metadata": {},
   "outputs": [],
   "source": [
    "df=pd.read_csv(r'C:\\Users\\Hp\\Desktop\\novel-corona-virus-2019-dataset\\covid_19_data - 12th March.csv')"
   ]
  },
  {
   "cell_type": "code",
   "execution_count": 5,
   "metadata": {},
   "outputs": [
    {
     "data": {
      "text/html": [
       "<div>\n",
       "<style scoped>\n",
       "    .dataframe tbody tr th:only-of-type {\n",
       "        vertical-align: middle;\n",
       "    }\n",
       "\n",
       "    .dataframe tbody tr th {\n",
       "        vertical-align: top;\n",
       "    }\n",
       "\n",
       "    .dataframe thead th {\n",
       "        text-align: right;\n",
       "    }\n",
       "</style>\n",
       "<table border=\"1\" class=\"dataframe\">\n",
       "  <thead>\n",
       "    <tr style=\"text-align: right;\">\n",
       "      <th></th>\n",
       "      <th>SNo</th>\n",
       "      <th>ObservationDate</th>\n",
       "      <th>Province/State</th>\n",
       "      <th>Country/Region</th>\n",
       "      <th>Last Update</th>\n",
       "      <th>Confirmed</th>\n",
       "      <th>Deaths</th>\n",
       "      <th>Recovered</th>\n",
       "    </tr>\n",
       "  </thead>\n",
       "  <tbody>\n",
       "    <tr>\n",
       "      <th>0</th>\n",
       "      <td>1</td>\n",
       "      <td>01/22/2020</td>\n",
       "      <td>Anhui</td>\n",
       "      <td>Mainland China</td>\n",
       "      <td>1/22/2020 17:00</td>\n",
       "      <td>1</td>\n",
       "      <td>0</td>\n",
       "      <td>0</td>\n",
       "    </tr>\n",
       "    <tr>\n",
       "      <th>1</th>\n",
       "      <td>2</td>\n",
       "      <td>01/22/2020</td>\n",
       "      <td>Beijing</td>\n",
       "      <td>Mainland China</td>\n",
       "      <td>1/22/2020 17:00</td>\n",
       "      <td>14</td>\n",
       "      <td>0</td>\n",
       "      <td>0</td>\n",
       "    </tr>\n",
       "    <tr>\n",
       "      <th>2</th>\n",
       "      <td>3</td>\n",
       "      <td>01/22/2020</td>\n",
       "      <td>Chongqing</td>\n",
       "      <td>Mainland China</td>\n",
       "      <td>1/22/2020 17:00</td>\n",
       "      <td>6</td>\n",
       "      <td>0</td>\n",
       "      <td>0</td>\n",
       "    </tr>\n",
       "    <tr>\n",
       "      <th>3</th>\n",
       "      <td>4</td>\n",
       "      <td>01/22/2020</td>\n",
       "      <td>Fujian</td>\n",
       "      <td>Mainland China</td>\n",
       "      <td>1/22/2020 17:00</td>\n",
       "      <td>1</td>\n",
       "      <td>0</td>\n",
       "      <td>0</td>\n",
       "    </tr>\n",
       "    <tr>\n",
       "      <th>4</th>\n",
       "      <td>5</td>\n",
       "      <td>01/22/2020</td>\n",
       "      <td>Gansu</td>\n",
       "      <td>Mainland China</td>\n",
       "      <td>1/22/2020 17:00</td>\n",
       "      <td>0</td>\n",
       "      <td>0</td>\n",
       "      <td>0</td>\n",
       "    </tr>\n",
       "  </tbody>\n",
       "</table>\n",
       "</div>"
      ],
      "text/plain": [
       "   SNo ObservationDate Province/State  Country/Region      Last Update  \\\n",
       "0    1      01/22/2020          Anhui  Mainland China  1/22/2020 17:00   \n",
       "1    2      01/22/2020        Beijing  Mainland China  1/22/2020 17:00   \n",
       "2    3      01/22/2020      Chongqing  Mainland China  1/22/2020 17:00   \n",
       "3    4      01/22/2020         Fujian  Mainland China  1/22/2020 17:00   \n",
       "4    5      01/22/2020          Gansu  Mainland China  1/22/2020 17:00   \n",
       "\n",
       "   Confirmed  Deaths  Recovered  \n",
       "0          1       0          0  \n",
       "1         14       0          0  \n",
       "2          6       0          0  \n",
       "3          1       0          0  \n",
       "4          0       0          0  "
      ]
     },
     "execution_count": 5,
     "metadata": {},
     "output_type": "execute_result"
    }
   ],
   "source": [
    "df.head()"
   ]
  },
  {
   "cell_type": "code",
   "execution_count": 6,
   "metadata": {},
   "outputs": [
    {
     "data": {
      "text/html": [
       "<div>\n",
       "<style scoped>\n",
       "    .dataframe tbody tr th:only-of-type {\n",
       "        vertical-align: middle;\n",
       "    }\n",
       "\n",
       "    .dataframe tbody tr th {\n",
       "        vertical-align: top;\n",
       "    }\n",
       "\n",
       "    .dataframe thead th {\n",
       "        text-align: right;\n",
       "    }\n",
       "</style>\n",
       "<table border=\"1\" class=\"dataframe\">\n",
       "  <thead>\n",
       "    <tr style=\"text-align: right;\">\n",
       "      <th></th>\n",
       "      <th>SNo</th>\n",
       "      <th>ObservationDate</th>\n",
       "      <th>Province/State</th>\n",
       "      <th>Country/Region</th>\n",
       "      <th>Last Update</th>\n",
       "      <th>Confirmed</th>\n",
       "      <th>Deaths</th>\n",
       "      <th>Recovered</th>\n",
       "    </tr>\n",
       "  </thead>\n",
       "  <tbody>\n",
       "    <tr>\n",
       "      <th>4930</th>\n",
       "      <td>4931</td>\n",
       "      <td>03-11-20</td>\n",
       "      <td>Mississippi</td>\n",
       "      <td>US</td>\n",
       "      <td>2020-03-10T02:33:04</td>\n",
       "      <td>0</td>\n",
       "      <td>0</td>\n",
       "      <td>0</td>\n",
       "    </tr>\n",
       "    <tr>\n",
       "      <th>4931</th>\n",
       "      <td>4932</td>\n",
       "      <td>03-11-20</td>\n",
       "      <td>North Dakota</td>\n",
       "      <td>US</td>\n",
       "      <td>2020-03-10T02:33:04</td>\n",
       "      <td>0</td>\n",
       "      <td>0</td>\n",
       "      <td>0</td>\n",
       "    </tr>\n",
       "    <tr>\n",
       "      <th>4932</th>\n",
       "      <td>4933</td>\n",
       "      <td>03-11-20</td>\n",
       "      <td>West Virginia</td>\n",
       "      <td>US</td>\n",
       "      <td>2020-03-10T02:33:04</td>\n",
       "      <td>0</td>\n",
       "      <td>0</td>\n",
       "      <td>0</td>\n",
       "    </tr>\n",
       "    <tr>\n",
       "      <th>4933</th>\n",
       "      <td>4934</td>\n",
       "      <td>03-11-20</td>\n",
       "      <td>Wyoming</td>\n",
       "      <td>US</td>\n",
       "      <td>2020-03-10T02:33:04</td>\n",
       "      <td>0</td>\n",
       "      <td>0</td>\n",
       "      <td>0</td>\n",
       "    </tr>\n",
       "    <tr>\n",
       "      <th>4934</th>\n",
       "      <td>4935</td>\n",
       "      <td>03-11-20</td>\n",
       "      <td>NaN</td>\n",
       "      <td>occupied Palestinian territory</td>\n",
       "      <td>2020-03-11T20:53:02</td>\n",
       "      <td>0</td>\n",
       "      <td>0</td>\n",
       "      <td>0</td>\n",
       "    </tr>\n",
       "  </tbody>\n",
       "</table>\n",
       "</div>"
      ],
      "text/plain": [
       "       SNo ObservationDate Province/State                  Country/Region  \\\n",
       "4930  4931        03-11-20    Mississippi                              US   \n",
       "4931  4932        03-11-20   North Dakota                              US   \n",
       "4932  4933        03-11-20  West Virginia                              US   \n",
       "4933  4934        03-11-20        Wyoming                              US   \n",
       "4934  4935        03-11-20            NaN  occupied Palestinian territory   \n",
       "\n",
       "              Last Update  Confirmed  Deaths  Recovered  \n",
       "4930  2020-03-10T02:33:04          0       0          0  \n",
       "4931  2020-03-10T02:33:04          0       0          0  \n",
       "4932  2020-03-10T02:33:04          0       0          0  \n",
       "4933  2020-03-10T02:33:04          0       0          0  \n",
       "4934  2020-03-11T20:53:02          0       0          0  "
      ]
     },
     "execution_count": 6,
     "metadata": {},
     "output_type": "execute_result"
    }
   ],
   "source": [
    "df.tail()"
   ]
  },
  {
   "cell_type": "code",
   "execution_count": 8,
   "metadata": {},
   "outputs": [
    {
     "data": {
      "text/plain": [
       "RangeIndex(start=0, stop=4935, step=1)"
      ]
     },
     "execution_count": 8,
     "metadata": {},
     "output_type": "execute_result"
    }
   ],
   "source": [
    "df.index"
   ]
  },
  {
   "cell_type": "code",
   "execution_count": 9,
   "metadata": {},
   "outputs": [
    {
     "data": {
      "text/plain": [
       "Index(['SNo', 'ObservationDate', 'Province/State', 'Country/Region',\n",
       "       'Last Update', 'Confirmed', 'Deaths', 'Recovered'],\n",
       "      dtype='object')"
      ]
     },
     "execution_count": 9,
     "metadata": {},
     "output_type": "execute_result"
    }
   ],
   "source": [
    "df.columns"
   ]
  },
  {
   "cell_type": "code",
   "execution_count": 10,
   "metadata": {},
   "outputs": [
    {
     "data": {
      "text/plain": [
       "array([[1, '01/22/2020', 'Anhui', ..., 1, 0, 0],\n",
       "       [2, '01/22/2020', 'Beijing', ..., 14, 0, 0],\n",
       "       [3, '01/22/2020', 'Chongqing', ..., 6, 0, 0],\n",
       "       ...,\n",
       "       [4933, '03-11-20', 'West Virginia', ..., 0, 0, 0],\n",
       "       [4934, '03-11-20', 'Wyoming', ..., 0, 0, 0],\n",
       "       [4935, '03-11-20', nan, ..., 0, 0, 0]], dtype=object)"
      ]
     },
     "execution_count": 10,
     "metadata": {},
     "output_type": "execute_result"
    }
   ],
   "source": [
    "df.values"
   ]
  },
  {
   "cell_type": "code",
   "execution_count": 11,
   "metadata": {},
   "outputs": [
    {
     "data": {
      "text/plain": [
       "2"
      ]
     },
     "execution_count": 11,
     "metadata": {},
     "output_type": "execute_result"
    }
   ],
   "source": [
    "df.ndim"
   ]
  },
  {
   "cell_type": "code",
   "execution_count": 12,
   "metadata": {},
   "outputs": [
    {
     "data": {
      "text/plain": [
       "(4935, 8)"
      ]
     },
     "execution_count": 12,
     "metadata": {},
     "output_type": "execute_result"
    }
   ],
   "source": [
    "df.shape"
   ]
  },
  {
   "cell_type": "code",
   "execution_count": 13,
   "metadata": {},
   "outputs": [
    {
     "data": {
      "text/plain": [
       "39480"
      ]
     },
     "execution_count": 13,
     "metadata": {},
     "output_type": "execute_result"
    }
   ],
   "source": [
    "df.size"
   ]
  },
  {
   "cell_type": "code",
   "execution_count": 14,
   "metadata": {},
   "outputs": [
    {
     "name": "stdout",
     "output_type": "stream",
     "text": [
      "<class 'pandas.core.frame.DataFrame'>\n",
      "RangeIndex: 4935 entries, 0 to 4934\n",
      "Data columns (total 8 columns):\n",
      "SNo                4935 non-null int64\n",
      "ObservationDate    4935 non-null object\n",
      "Province/State     3120 non-null object\n",
      "Country/Region     4935 non-null object\n",
      "Last Update        4935 non-null object\n",
      "Confirmed          4935 non-null int64\n",
      "Deaths             4935 non-null int64\n",
      "Recovered          4935 non-null int64\n",
      "dtypes: int64(4), object(4)\n",
      "memory usage: 308.6+ KB\n"
     ]
    }
   ],
   "source": [
    "df.info()"
   ]
  },
  {
   "cell_type": "code",
   "execution_count": 15,
   "metadata": {},
   "outputs": [
    {
     "data": {
      "text/html": [
       "<div>\n",
       "<style scoped>\n",
       "    .dataframe tbody tr th:only-of-type {\n",
       "        vertical-align: middle;\n",
       "    }\n",
       "\n",
       "    .dataframe tbody tr th {\n",
       "        vertical-align: top;\n",
       "    }\n",
       "\n",
       "    .dataframe thead th {\n",
       "        text-align: right;\n",
       "    }\n",
       "</style>\n",
       "<table border=\"1\" class=\"dataframe\">\n",
       "  <thead>\n",
       "    <tr style=\"text-align: right;\">\n",
       "      <th></th>\n",
       "      <th>SNo</th>\n",
       "      <th>Confirmed</th>\n",
       "      <th>Deaths</th>\n",
       "      <th>Recovered</th>\n",
       "    </tr>\n",
       "  </thead>\n",
       "  <tbody>\n",
       "    <tr>\n",
       "      <th>count</th>\n",
       "      <td>4935.000000</td>\n",
       "      <td>4935.000000</td>\n",
       "      <td>4935.000000</td>\n",
       "      <td>4935.00000</td>\n",
       "    </tr>\n",
       "    <tr>\n",
       "      <th>mean</th>\n",
       "      <td>2468.000000</td>\n",
       "      <td>577.614590</td>\n",
       "      <td>17.694833</td>\n",
       "      <td>201.01155</td>\n",
       "    </tr>\n",
       "    <tr>\n",
       "      <th>std</th>\n",
       "      <td>1424.756119</td>\n",
       "      <td>4971.492694</td>\n",
       "      <td>192.348513</td>\n",
       "      <td>2179.79852</td>\n",
       "    </tr>\n",
       "    <tr>\n",
       "      <th>min</th>\n",
       "      <td>1.000000</td>\n",
       "      <td>0.000000</td>\n",
       "      <td>0.000000</td>\n",
       "      <td>0.00000</td>\n",
       "    </tr>\n",
       "    <tr>\n",
       "      <th>25%</th>\n",
       "      <td>1234.500000</td>\n",
       "      <td>1.000000</td>\n",
       "      <td>0.000000</td>\n",
       "      <td>0.00000</td>\n",
       "    </tr>\n",
       "    <tr>\n",
       "      <th>50%</th>\n",
       "      <td>2468.000000</td>\n",
       "      <td>9.000000</td>\n",
       "      <td>0.000000</td>\n",
       "      <td>1.00000</td>\n",
       "    </tr>\n",
       "    <tr>\n",
       "      <th>75%</th>\n",
       "      <td>3701.500000</td>\n",
       "      <td>93.000000</td>\n",
       "      <td>1.000000</td>\n",
       "      <td>14.00000</td>\n",
       "    </tr>\n",
       "    <tr>\n",
       "      <th>max</th>\n",
       "      <td>4935.000000</td>\n",
       "      <td>67773.000000</td>\n",
       "      <td>3046.000000</td>\n",
       "      <td>49134.00000</td>\n",
       "    </tr>\n",
       "  </tbody>\n",
       "</table>\n",
       "</div>"
      ],
      "text/plain": [
       "               SNo     Confirmed       Deaths    Recovered\n",
       "count  4935.000000   4935.000000  4935.000000   4935.00000\n",
       "mean   2468.000000    577.614590    17.694833    201.01155\n",
       "std    1424.756119   4971.492694   192.348513   2179.79852\n",
       "min       1.000000      0.000000     0.000000      0.00000\n",
       "25%    1234.500000      1.000000     0.000000      0.00000\n",
       "50%    2468.000000      9.000000     0.000000      1.00000\n",
       "75%    3701.500000     93.000000     1.000000     14.00000\n",
       "max    4935.000000  67773.000000  3046.000000  49134.00000"
      ]
     },
     "execution_count": 15,
     "metadata": {},
     "output_type": "execute_result"
    }
   ],
   "source": [
    "df.describe()"
   ]
  },
  {
   "cell_type": "code",
   "execution_count": 16,
   "metadata": {},
   "outputs": [
    {
     "data": {
      "text/plain": [
       "SNo                   0\n",
       "ObservationDate       0\n",
       "Province/State     1815\n",
       "Country/Region        0\n",
       "Last Update           0\n",
       "Confirmed             0\n",
       "Deaths                0\n",
       "Recovered             0\n",
       "dtype: int64"
      ]
     },
     "execution_count": 16,
     "metadata": {},
     "output_type": "execute_result"
    }
   ],
   "source": [
    "df.isna().sum()"
   ]
  },
  {
   "cell_type": "markdown",
   "metadata": {},
   "source": [
    "# Statistics for Confirmed Cases"
   ]
  },
  {
   "cell_type": "code",
   "execution_count": 17,
   "metadata": {},
   "outputs": [
    {
     "name": "stdout",
     "output_type": "stream",
     "text": [
      "Mean : 577.6145896656535\n"
     ]
    }
   ],
   "source": [
    "print(\"Mean :\",df['Confirmed'].mean())"
   ]
  },
  {
   "cell_type": "code",
   "execution_count": null,
   "metadata": {},
   "outputs": [],
   "source": []
  },
  {
   "cell_type": "code",
   "execution_count": 18,
   "metadata": {},
   "outputs": [
    {
     "name": "stdout",
     "output_type": "stream",
     "text": [
      "Standard Deviation : 4971.492694417894\n"
     ]
    }
   ],
   "source": [
    "print(\"Standard Deviation :\",df['Confirmed'].std())"
   ]
  },
  {
   "cell_type": "code",
   "execution_count": 19,
   "metadata": {},
   "outputs": [
    {
     "data": {
      "text/plain": [
       "<matplotlib.axes._subplots.AxesSubplot at 0x1eb9be20b48>"
      ]
     },
     "execution_count": 19,
     "metadata": {},
     "output_type": "execute_result"
    },
    {
     "data": {
      "image/png": "[encoded data removed]",
      "text/plain": [
       "<Figure size 576x396 with 1 Axes>"
      ]
     },
     "metadata": {},
     "output_type": "display_data"
    }
   ],
   "source": [
    "sns.set()\n",
    "plt.title(\"Confirmed cases Histogram\")\n",
    "df['Confirmed'].hist(bins=10)"
   ]
  },
  {
   "cell_type": "markdown",
   "metadata": {},
   "source": [
    "# Statistics for Recovered Cases"
   ]
  },
  {
   "cell_type": "code",
   "execution_count": 20,
   "metadata": {},
   "outputs": [
    {
     "name": "stdout",
     "output_type": "stream",
     "text": [
      "Mean:  201.01155015197568\n"
     ]
    }
   ],
   "source": [
    "print(\"Mean: \",df['Recovered'].mean())"
   ]
  },
  {
   "cell_type": "code",
   "execution_count": 21,
   "metadata": {},
   "outputs": [
    {
     "name": "stdout",
     "output_type": "stream",
     "text": [
      "Standard Deviation : 2179.7985200076755\n"
     ]
    }
   ],
   "source": [
    "print(\"Standard Deviation :\",df['Recovered'].std())"
   ]
  },
  {
   "cell_type": "code",
   "execution_count": 22,
   "metadata": {},
   "outputs": [
    {
     "data": {
      "text/plain": [
       "<matplotlib.axes._subplots.AxesSubplot at 0x1eba10eb208>"
      ]
     },
     "execution_count": 22,
     "metadata": {},
     "output_type": "execute_result"
    },
    {
     "data": {
      "image/png": "[encoded data removed]",
      "text/plain": [
       "<Figure size 576x396 with 1 Axes>"
      ]
     },
     "metadata": {},
     "output_type": "display_data"
    }
   ],
   "source": [
    "plt.title('Recovered Cases Histogram')\n",
    "df['Recovered'].hist(bins=200)"
   ]
  },
  {
   "cell_type": "markdown",
   "metadata": {},
   "source": [
    "# Statistic for Death Cases"
   ]
  },
  {
   "cell_type": "code",
   "execution_count": 23,
   "metadata": {},
   "outputs": [
    {
     "name": "stdout",
     "output_type": "stream",
     "text": [
      "Mean: 17.69483282674772\n"
     ]
    }
   ],
   "source": [
    "print('Mean:',df['Deaths'].mean())"
   ]
  },
  {
   "cell_type": "code",
   "execution_count": 24,
   "metadata": {},
   "outputs": [
    {
     "name": "stdout",
     "output_type": "stream",
     "text": [
      "Standard Deviation: 192.34851346446555\n"
     ]
    }
   ],
   "source": [
    "print('Standard Deviation:',df['Deaths'].std())"
   ]
  },
  {
   "cell_type": "code",
   "execution_count": 25,
   "metadata": {},
   "outputs": [
    {
     "data": {
      "text/plain": [
       "<matplotlib.axes._subplots.AxesSubplot at 0x1eba10c5788>"
      ]
     },
     "execution_count": 25,
     "metadata": {},
     "output_type": "execute_result"
    },
    {
     "data": {
      "image/png": "[encoded data removed]",
      "text/plain": [
       "<Figure size 576x396 with 1 Axes>"
      ]
     },
     "metadata": {},
     "output_type": "display_data"
    }
   ],
   "source": [
    "plt.title(\"Death Cases Histogram\")\n",
    "df['Deaths'].hist(bins=200)"
   ]
  },
  {
   "cell_type": "markdown",
   "metadata": {},
   "source": [
    "# frequency in Province/State using the ‘Counter’ method from the collections module:"
   ]
  },
  {
   "cell_type": "code",
   "execution_count": 27,
   "metadata": {},
   "outputs": [],
   "source": [
    "from collections import Counter"
   ]
  },
  {
   "cell_type": "code",
   "execution_count": 28,
   "metadata": {},
   "outputs": [
    {
     "name": "stdout",
     "output_type": "stream",
     "text": [
      "Counter({nan: 1815, 'Gansu': 51, 'Hebei': 51, 'Anhui': 50, 'Beijing': 50, 'Chongqing': 50, 'Fujian': 50, 'Guangdong': 50, 'Guangxi': 50, 'Guizhou': 50, 'Hainan': 50, 'Heilongjiang': 50, 'Henan': 50, 'Hong Kong': 50, 'Hubei': 50, 'Hunan': 50, 'Inner Mongolia': 50, 'Jiangsu': 50, 'Jiangxi': 50, 'Jilin': 50, 'Liaoning': 50, 'Macau': 50, 'Ningxia': 50, 'Qinghai': 50, 'Shaanxi': 50, 'Shandong': 50, 'Shanghai': 50, 'Shanxi': 50, 'Sichuan': 50, 'Tianjin': 50, 'Xinjiang': 50, 'Yunnan': 50, 'Zhejiang': 50, 'Taiwan': 49, 'New South Wales': 45, 'Victoria': 45, 'Tibet': 44, 'British Columbia': 44, 'Queensland': 42, 'South Australia': 40, 'Los Angeles, CA': 38, 'San Benito, CA': 36, 'Diamond Princess cruise ship': 36, 'Santa Clara, CA': 35, 'Tempe, AZ': 35, 'Boston, MA': 34, 'Toronto, ON': 34, 'London, ON': 34, 'Madison, WI': 34, 'Orange, CA': 32, 'Chicago, IL': 30, 'Seattle, WA': 30, 'San Diego County, CA': 28, 'San Antonio, TX': 26, 'From Diamond Princess': 23, 'Humboldt County, CA': 18, 'Sacramento County, CA': 18, 'Omaha, NE (From Diamond Princess)': 17, 'Travis, CA (From Diamond Princess)': 17, 'Lackland, TX (From Diamond Princess)': 17, 'Unassigned Location (From Diamond Princess)': 15, 'Washington': 12, 'Ontario': 12, 'Western Australia': 12, ' Montreal, QC': 10, 'Snohomish County, WA': 10, 'Tasmania': 10, 'Illinois': 9, 'California': 8, 'Arizona': 8, 'King County, WA': 8, 'Cook County, IL': 8, 'Grafton County, NH': 8, 'Hillsborough, FL': 8, 'Placer County, CA': 8, 'San Mateo, CA': 8, 'Sarasota, FL': 8, 'Sonoma County, CA': 8, 'Umatilla, OR': 8, 'Northern Territory': 8, 'Fulton County, GA': 7, 'Washington County, OR': 7, 'Maricopa County, AZ': 7, 'Wake County, NC': 7, 'Westchester County, NY': 7, 'Providence, RI': 6, 'Orange County, CA': 6, 'Contra Costa County, CA': 6, ' Norfolk County, MA': 5, 'Bergen County, NJ': 5, 'Harris County, TX': 5, 'San Francisco County, CA': 5, 'Clark County, NV': 5, 'Fort Bend County, TX': 5, 'Grant County, WA': 5, 'Santa Rosa County, FL': 5, 'Williamson County, TN': 5, 'Bavaria': 4, 'New York City, NY': 4, 'Berkeley, CA': 4, 'New York County, NY': 4, 'Unassigned Location, WA': 4, 'Montgomery County, MD': 4, 'Suffolk County, MA': 4, 'Denver County, CO': 4, 'Summit County, CO': 4, 'Chatham County, NC': 4, 'Delaware County, PA': 4, 'Douglas County, NE': 4, 'Fayette County, KY': 4, 'Marion County, IN': 4, 'Middlesex County, MA': 4, 'Nassau County, NY': 4, 'Ramsey County, MN': 4, 'Washoe County, NV': 4, 'Wayne County, PA': 4, 'Yolo County, CA': 4, 'None': 3, 'Portland, OR': 3, 'Calgary, Alberta': 3, 'Santa Clara County, CA': 3, 'Grand Princess Cruise Ship': 3, 'Douglas County, CO': 3, 'Providence County, RI': 3, 'Alameda County, CA': 3, 'Broward County, FL': 3, 'Fairfield County, CT': 3, 'Lee County, FL': 3, 'Pinal County, AZ': 3, 'Rockland County, NY': 3, 'Saratoga County, NY': 3, 'Charleston County, SC': 3, 'Clark County, WA': 3, 'Cobb County, GA': 3, 'Davis County, UT': 3, 'El Paso County, CO': 3, 'Honolulu County, HI': 3, 'Jackson County, OR ': 3, 'Jefferson County, WA': 3, 'Kershaw County, SC': 3, 'Klamath County, OR': 3, 'Madera County, CA': 3, 'Pierce County, WA': 3, 'Plymouth County, MA': 3, 'Tulsa County, OK': 3, 'Montgomery County, TX': 3, 'Alberta': 3, 'Quebec': 3, 'Cruise Ship': 2, 'Floyd County, GA': 2, 'Edmonton, Alberta': 2, 'Norfolk County, MA': 2, 'Montgomery County, PA': 2, 'Fairfax County, VA': 2, 'Rockingham County, NH': 2, 'Washington, D.C.': 2, 'Berkshire County, MA': 2, 'Davidson County, TN': 2, 'Douglas County, OR': 2, 'Fresno County, CA': 2, 'Harford County, MD': 2, 'Hendricks County, IN': 2, 'Hudson County, NJ': 2, 'Johnson County, KS': 2, 'Kittitas County, WA': 2, 'Manatee County, FL': 2, 'Marion County, OR': 2, 'Okaloosa County, FL': 2, 'Polk County, GA': 2, 'Riverside County, CA': 2, 'Shelby County, TN': 2, 'Spokane County, WA': 2, 'St. Louis County, MO': 2, 'Suffolk County, NY': 2, 'Ulster County, NY': 2, 'Unknown Location, MA': 2, 'Volusia County, FL': 2, 'New York': 2, 'Massachusetts': 2, 'Grand Princess': 2, 'Georgia': 2, 'Colorado': 2, 'Florida': 2, 'New Jersey': 2, 'Oregon': 2, 'Texas': 2, 'Pennsylvania': 2, 'Iowa': 2, 'Maryland': 2, 'North Carolina': 2, 'South Carolina': 2, 'Tennessee': 2, 'Virginia': 2, 'Indiana': 2, 'Kentucky': 2, 'District of Columbia': 2, 'Nevada': 2, 'New Hampshire': 2, 'Minnesota': 2, 'Nebraska': 2, 'Ohio': 2, 'Rhode Island': 2, 'Wisconsin': 2, 'Connecticut': 2, 'Hawaii': 2, 'Oklahoma': 2, 'Utah': 2, 'Kansas': 2, 'Louisiana': 2, 'Missouri': 2, 'Vermont': 2, 'Alaska': 2, 'Arkansas': 2, 'Delaware': 2, 'Idaho': 2, 'Maine': 2, 'Michigan': 2, 'Mississippi': 2, 'Montana': 2, 'New Mexico': 2, 'North Dakota': 2, 'South Dakota': 2, 'West Virginia': 2, 'Wyoming': 2, 'Chicago': 1, 'Ashland, NE': 1, 'Travis, CA': 1, 'Lackland, TX': 1, 'Queens County, NY': 1, 'Norwell County, MA': 1, 'Santa Cruz County, CA': 1, 'Unassigned Location, VT': 1, 'Johnson County, IA': 1, 'Harrison County, KY': 1, 'Bennington County, VT': 1, 'Carver County, MN': 1, 'Charlotte County, FL': 1, 'Cherokee County, GA': 1, 'Collin County, TX': 1, 'Jefferson County, KY': 1, 'Jefferson Parish, LA': 1, 'Shasta County, CA': 1, 'Spartanburg County, SC': 1, 'France': 1, 'UK': 1, 'Denmark': 1, 'Faroe Islands': 1, 'St Martin': 1, 'Channel Islands': 1, 'New Brunswick': 1, 'Saint Barthelemy': 1, 'Gibraltar': 1})\n"
     ]
    }
   ],
   "source": [
    "print(Counter(df['Province/State'].values))"
   ]
  },
  {
   "cell_type": "markdown",
   "metadata": {},
   "source": [
    "# Drop the missing Values"
   ]
  },
  {
   "cell_type": "code",
   "execution_count": 29,
   "metadata": {},
   "outputs": [],
   "source": [
    "df.dropna(inplace=True)"
   ]
  },
  {
   "cell_type": "code",
   "execution_count": 30,
   "metadata": {},
   "outputs": [
    {
     "name": "stdout",
     "output_type": "stream",
     "text": [
      "Counter({'Gansu': 51, 'Hebei': 51, 'Anhui': 50, 'Beijing': 50, 'Chongqing': 50, 'Fujian': 50, 'Guangdong': 50, 'Guangxi': 50, 'Guizhou': 50, 'Hainan': 50, 'Heilongjiang': 50, 'Henan': 50, 'Hong Kong': 50, 'Hubei': 50, 'Hunan': 50, 'Inner Mongolia': 50, 'Jiangsu': 50, 'Jiangxi': 50, 'Jilin': 50, 'Liaoning': 50, 'Macau': 50, 'Ningxia': 50, 'Qinghai': 50, 'Shaanxi': 50, 'Shandong': 50, 'Shanghai': 50, 'Shanxi': 50, 'Sichuan': 50, 'Tianjin': 50, 'Xinjiang': 50, 'Yunnan': 50, 'Zhejiang': 50, 'Taiwan': 49, 'New South Wales': 45, 'Victoria': 45, 'Tibet': 44, 'British Columbia': 44, 'Queensland': 42, 'South Australia': 40, 'Los Angeles, CA': 38, 'San Benito, CA': 36, 'Diamond Princess cruise ship': 36, 'Santa Clara, CA': 35, 'Tempe, AZ': 35, 'Boston, MA': 34, 'Toronto, ON': 34, 'London, ON': 34, 'Madison, WI': 34, 'Orange, CA': 32, 'Chicago, IL': 30, 'Seattle, WA': 30, 'San Diego County, CA': 28, 'San Antonio, TX': 26, 'From Diamond Princess': 23, 'Humboldt County, CA': 18, 'Sacramento County, CA': 18, 'Omaha, NE (From Diamond Princess)': 17, 'Travis, CA (From Diamond Princess)': 17, 'Lackland, TX (From Diamond Princess)': 17, 'Unassigned Location (From Diamond Princess)': 15, 'Washington': 12, 'Ontario': 12, 'Western Australia': 12, ' Montreal, QC': 10, 'Snohomish County, WA': 10, 'Tasmania': 10, 'Illinois': 9, 'California': 8, 'Arizona': 8, 'King County, WA': 8, 'Cook County, IL': 8, 'Grafton County, NH': 8, 'Hillsborough, FL': 8, 'Placer County, CA': 8, 'San Mateo, CA': 8, 'Sarasota, FL': 8, 'Sonoma County, CA': 8, 'Umatilla, OR': 8, 'Northern Territory': 8, 'Fulton County, GA': 7, 'Washington County, OR': 7, 'Maricopa County, AZ': 7, 'Wake County, NC': 7, 'Westchester County, NY': 7, 'Providence, RI': 6, 'Orange County, CA': 6, 'Contra Costa County, CA': 6, ' Norfolk County, MA': 5, 'Bergen County, NJ': 5, 'Harris County, TX': 5, 'San Francisco County, CA': 5, 'Clark County, NV': 5, 'Fort Bend County, TX': 5, 'Grant County, WA': 5, 'Santa Rosa County, FL': 5, 'Williamson County, TN': 5, 'Bavaria': 4, 'New York City, NY': 4, 'Berkeley, CA': 4, 'New York County, NY': 4, 'Unassigned Location, WA': 4, 'Montgomery County, MD': 4, 'Suffolk County, MA': 4, 'Denver County, CO': 4, 'Summit County, CO': 4, 'Chatham County, NC': 4, 'Delaware County, PA': 4, 'Douglas County, NE': 4, 'Fayette County, KY': 4, 'Marion County, IN': 4, 'Middlesex County, MA': 4, 'Nassau County, NY': 4, 'Ramsey County, MN': 4, 'Washoe County, NV': 4, 'Wayne County, PA': 4, 'Yolo County, CA': 4, 'None': 3, 'Portland, OR': 3, 'Calgary, Alberta': 3, 'Santa Clara County, CA': 3, 'Grand Princess Cruise Ship': 3, 'Douglas County, CO': 3, 'Providence County, RI': 3, 'Alameda County, CA': 3, 'Broward County, FL': 3, 'Fairfield County, CT': 3, 'Lee County, FL': 3, 'Pinal County, AZ': 3, 'Rockland County, NY': 3, 'Saratoga County, NY': 3, 'Charleston County, SC': 3, 'Clark County, WA': 3, 'Cobb County, GA': 3, 'Davis County, UT': 3, 'El Paso County, CO': 3, 'Honolulu County, HI': 3, 'Jackson County, OR ': 3, 'Jefferson County, WA': 3, 'Kershaw County, SC': 3, 'Klamath County, OR': 3, 'Madera County, CA': 3, 'Pierce County, WA': 3, 'Plymouth County, MA': 3, 'Tulsa County, OK': 3, 'Montgomery County, TX': 3, 'Alberta': 3, 'Quebec': 3, 'Cruise Ship': 2, 'Floyd County, GA': 2, 'Edmonton, Alberta': 2, 'Norfolk County, MA': 2, 'Montgomery County, PA': 2, 'Fairfax County, VA': 2, 'Rockingham County, NH': 2, 'Washington, D.C.': 2, 'Berkshire County, MA': 2, 'Davidson County, TN': 2, 'Douglas County, OR': 2, 'Fresno County, CA': 2, 'Harford County, MD': 2, 'Hendricks County, IN': 2, 'Hudson County, NJ': 2, 'Johnson County, KS': 2, 'Kittitas County, WA': 2, 'Manatee County, FL': 2, 'Marion County, OR': 2, 'Okaloosa County, FL': 2, 'Polk County, GA': 2, 'Riverside County, CA': 2, 'Shelby County, TN': 2, 'Spokane County, WA': 2, 'St. Louis County, MO': 2, 'Suffolk County, NY': 2, 'Ulster County, NY': 2, 'Unknown Location, MA': 2, 'Volusia County, FL': 2, 'New York': 2, 'Massachusetts': 2, 'Grand Princess': 2, 'Georgia': 2, 'Colorado': 2, 'Florida': 2, 'New Jersey': 2, 'Oregon': 2, 'Texas': 2, 'Pennsylvania': 2, 'Iowa': 2, 'Maryland': 2, 'North Carolina': 2, 'South Carolina': 2, 'Tennessee': 2, 'Virginia': 2, 'Indiana': 2, 'Kentucky': 2, 'District of Columbia': 2, 'Nevada': 2, 'New Hampshire': 2, 'Minnesota': 2, 'Nebraska': 2, 'Ohio': 2, 'Rhode Island': 2, 'Wisconsin': 2, 'Connecticut': 2, 'Hawaii': 2, 'Oklahoma': 2, 'Utah': 2, 'Kansas': 2, 'Louisiana': 2, 'Missouri': 2, 'Vermont': 2, 'Alaska': 2, 'Arkansas': 2, 'Delaware': 2, 'Idaho': 2, 'Maine': 2, 'Michigan': 2, 'Mississippi': 2, 'Montana': 2, 'New Mexico': 2, 'North Dakota': 2, 'South Dakota': 2, 'West Virginia': 2, 'Wyoming': 2, 'Chicago': 1, 'Ashland, NE': 1, 'Travis, CA': 1, 'Lackland, TX': 1, 'Queens County, NY': 1, 'Norwell County, MA': 1, 'Santa Cruz County, CA': 1, 'Unassigned Location, VT': 1, 'Johnson County, IA': 1, 'Harrison County, KY': 1, 'Bennington County, VT': 1, 'Carver County, MN': 1, 'Charlotte County, FL': 1, 'Cherokee County, GA': 1, 'Collin County, TX': 1, 'Jefferson County, KY': 1, 'Jefferson Parish, LA': 1, 'Shasta County, CA': 1, 'Spartanburg County, SC': 1, 'France': 1, 'UK': 1, 'Denmark': 1, 'Faroe Islands': 1, 'St Martin': 1, 'Channel Islands': 1, 'New Brunswick': 1, 'Saint Barthelemy': 1, 'Gibraltar': 1})\n"
     ]
    }
   ],
   "source": [
    "print(Counter(df['Province/State'].values))"
   ]
  },
  {
   "cell_type": "code",
   "execution_count": 31,
   "metadata": {},
   "outputs": [
    {
     "data": {
      "text/plain": [
       "SNo                0\n",
       "ObservationDate    0\n",
       "Province/State     0\n",
       "Country/Region     0\n",
       "Last Update        0\n",
       "Confirmed          0\n",
       "Deaths             0\n",
       "Recovered          0\n",
       "dtype: int64"
      ]
     },
     "execution_count": 31,
     "metadata": {},
     "output_type": "execute_result"
    }
   ],
   "source": [
    "df.isna().sum()"
   ]
  },
  {
   "cell_type": "code",
   "execution_count": 32,
   "metadata": {},
   "outputs": [
    {
     "name": "stdout",
     "output_type": "stream",
     "text": [
      "[('Gansu', 51), ('Hebei', 51), ('Anhui', 50), ('Beijing', 50), ('Chongqing', 50)]\n"
     ]
    }
   ],
   "source": [
    "print(Counter(df['Province/State'].values).most_common(5))"
   ]
  },
  {
   "cell_type": "code",
   "execution_count": 33,
   "metadata": {},
   "outputs": [
    {
     "data": {
      "image/png": "[encoded data removed]",
      "text/plain": [
       "<Figure size 576x396 with 1 Axes>"
      ]
     },
     "metadata": {},
     "output_type": "display_data"
    }
   ],
   "source": [
    "df=df[df['Province/State'].isin(['Anhui','Beijing','Chongqing'])]\n",
    "sns.boxplot(x=df['Province/State'],y=df['Confirmed'])\n",
    "plt.show()"
   ]
  },
  {
   "cell_type": "markdown",
   "metadata": {},
   "source": [
    "# For Recovered Cases"
   ]
  },
  {
   "cell_type": "code",
   "execution_count": 34,
   "metadata": {},
   "outputs": [
    {
     "data": {
      "image/png": "[encoded data removed]",
      "text/plain": [
       "<Figure size 576x396 with 1 Axes>"
      ]
     },
     "metadata": {},
     "output_type": "display_data"
    }
   ],
   "source": [
    "df=df[df['Province/State'].isin(['Anhui','Beijing','Chongqing'])]\n",
    "sns.boxplot(x=df['Province/State'],y=df['Recovered'])\n",
    "plt.show()"
   ]
  },
  {
   "cell_type": "markdown",
   "metadata": {},
   "source": [
    "# For Deaths"
   ]
  },
  {
   "cell_type": "code",
   "execution_count": 35,
   "metadata": {},
   "outputs": [
    {
     "data": {
      "image/png": "[encoded data removed]",
      "text/plain": [
       "<Figure size 576x396 with 1 Axes>"
      ]
     },
     "metadata": {},
     "output_type": "display_data"
    }
   ],
   "source": [
    "df=df[df['Province/State'].isin(['Anhui','Beijing','Chongqing'])]\n",
    "sns.boxplot(x=df['Province/State'],y=df['Deaths'])\n",
    "plt.show()"
   ]
  },
  {
   "cell_type": "code",
   "execution_count": null,
   "metadata": {},
   "outputs": [],
   "source": []
  }
 ],
 "metadata": {
  "kernelspec": {
   "display_name": "Python 3",
   "language": "python",
   "name": "python3"
  },
  "language_info": {
   "codemirror_mode": {
    "name": "ipython",
    "version": 3
   },
   "file_extension": ".py",
   "mimetype": "text/x-python",
   "name": "python",
   "nbconvert_exporter": "python",
   "pygments_lexer": "ipython3",
   "version": "3.7.5"
  }
 },
 "nbformat": 4,
 "nbformat_minor": 4
}
